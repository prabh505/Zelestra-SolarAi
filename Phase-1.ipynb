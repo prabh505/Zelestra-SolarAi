{
  "nbformat": 4,
  "nbformat_minor": 0,
  "metadata": {
    "colab": {
      "provenance": []
    },
    "kernelspec": {
      "name": "python3",
      "display_name": "Python 3"
    },
    "language_info": {
      "name": "python"
    }
  },
  "cells": [
    {
      "cell_type": "markdown",
      "source": [
        "#  Solar PV Efficiency Prediction - Phase 1\n",
        "This notebook contains the full pipeline for solar PV efficiency prediction as part of the **Zelestra x AWS ML Ascend Challenge (Phase 1)**.\n",
        "\n",
        "We cover:\n",
        "- Data loading & cleaning\n",
        "- Feature engineering\n",
        "- SHAP-based feature selection\n",
        "- Modeling with LGBM, CatBoost, XGBoost, Ridge\n",
        "- Stacking with ElasticNetCV & BayesianRidge\n",
        "- Final blend submission\n"
      ],
      "metadata": {
        "id": "t43EgAnUhmsZ"
      }
    },
    {
      "cell_type": "code",
      "execution_count": null,
      "metadata": {
        "id": "JJQbPw4ngwNf"
      },
      "outputs": [],
      "source": [
        "#  Imports, installs and setup\n",
        "!pip install lightgbm catboost xgboost shap matplotlib scikit-learn pandas numpy\n",
        "import numpy as np\n",
        "import pandas as pd\n",
        "from sklearn.model_selection import KFold\n",
        "from sklearn.preprocessing import LabelEncoder, PolynomialFeatures\n",
        "from sklearn.linear_model import ElasticNetCV, Ridge, BayesianRidge\n",
        "from sklearn.metrics import mean_squared_error\n",
        "from sklearn.experimental import enable_iterative_imputer\n",
        "from sklearn.impute import IterativeImputer\n",
        "import lightgbm as lgb\n",
        "from catboost import CatBoostRegressor\n",
        "import xgboost as xgb\n",
        "import shap\n",
        "import matplotlib.pyplot as plt\n",
        "\n",
        "SEED = 42\n",
        "NFOLDS = 5\n",
        "TARGET = \"efficiency\"\n",
        "top_n = 7\n"
      ]
    },
    {
      "cell_type": "markdown",
      "source": [
        "##  Load data\n",
        "We load `train.csv` and `test.csv`, and set up categorical and numeric features.\n"
      ],
      "metadata": {
        "id": "G0HeORM_hwPP"
      }
    },
    {
      "cell_type": "code",
      "source": [
        "train = pd.read_csv(\"train.csv\")\n",
        "test = pd.read_csv(\"test.csv\")\n",
        "test_ids = test[\"id\"].values\n",
        "\n",
        "cat_cols = [\"string_id\", \"error_code\", \"installation_type\"]\n",
        "num_cols = [c for c in train.columns if c not in cat_cols + [\"id\", TARGET]]"
      ],
      "metadata": {
        "id": "fcfkjHXohzww"
      },
      "execution_count": null,
      "outputs": []
    },
    {
      "cell_type": "markdown",
      "source": [
        "##  Data cleaning\n",
        "- Convert numeric columns safely\n",
        "- Encode categorical features\n"
      ],
      "metadata": {
        "id": "A5c3FHk9h1lt"
      }
    },
    {
      "cell_type": "code",
      "source": [
        "# Convert numerics\n",
        "for col in num_cols:\n",
        "    train[col] = pd.to_numeric(train[col], errors=\"coerce\")\n",
        "    test[col] = pd.to_numeric(test[col], errors=\"coerce\")\n",
        "\n",
        "# Encode categoricals\n",
        "for col in cat_cols:\n",
        "    le = LabelEncoder()\n",
        "    combined = pd.concat([train[col].astype(str), test[col].astype(str)])\n",
        "    le.fit(combined)\n",
        "    train[col] = le.transform(train[col].astype(str))\n",
        "    test[col] = le.transform(test[col].astype(str))"
      ],
      "metadata": {
        "id": "0Ffm8IG_h4yk"
      },
      "execution_count": null,
      "outputs": []
    },
    {
      "cell_type": "markdown",
      "source": [
        "##  Feature engineering\n",
        "Add derived features (e.g., temperature squared).\n"
      ],
      "metadata": {
        "id": "6w9Nf1fMiQa1"
      }
    },
    {
      "cell_type": "code",
      "source": [
        "for df in [train, test]:\n",
        "    df[\"temperature_squared\"] = df[\"temperature\"] ** 2\n",
        "num_cols.append(\"temperature_squared\")"
      ],
      "metadata": {
        "id": "wmMnG0uQiT66"
      },
      "execution_count": null,
      "outputs": []
    },
    {
      "cell_type": "markdown",
      "source": [
        "##  Imputation\n",
        "Use `IterativeImputer` with `BayesianRidge` on numerics."
      ],
      "metadata": {
        "id": "w7UvLYaDiZyZ"
      }
    },
    {
      "cell_type": "code",
      "source": [
        "all_num = pd.concat([train[num_cols], test[num_cols]], axis=0)\n",
        "imputer = IterativeImputer(estimator=BayesianRidge(), random_state=SEED, initial_strategy='mean', max_iter=10)\n",
        "all_num_imputed = pd.DataFrame(imputer.fit_transform(all_num), columns=num_cols)\n",
        "\n",
        "train[num_cols] = all_num_imputed.iloc[:len(train)].reset_index(drop=True)\n",
        "test[num_cols] = all_num_imputed.iloc[len(train):].reset_index(drop=True)"
      ],
      "metadata": {
        "id": "tYqtjbmnid4K"
      },
      "execution_count": null,
      "outputs": []
    },
    {
      "cell_type": "markdown",
      "source": [
        "##  SHAP feature selection\n",
        "Identify top features from CatBoost, LightGBM, and XGBoost models.\n"
      ],
      "metadata": {
        "id": "RfYLgvDKihLQ"
      }
    },
    {
      "cell_type": "code",
      "source": [
        "features = num_cols + cat_cols\n",
        "X, y = train[features], train[TARGET]\n",
        "X_test = test[features]\n",
        "\n",
        "# Helper for SHAP top features\n",
        "def shap_top_features(model, X, top_n, features):\n",
        "    explainer = shap.TreeExplainer(model)\n",
        "    shap_values = explainer.shap_values(X)\n",
        "    mean_shap = np.abs(shap_values).mean(axis=0)\n",
        "    return [features[i] for i in np.argsort(mean_shap)[::-1][:top_n]]\n",
        "\n",
        "# CatBoost\n",
        "cat_model = CatBoostRegressor(**{\n",
        "    \"iterations\": 1500, \"learning_rate\": 0.03, \"depth\": 6, \"l2_leaf_reg\": 3,\n",
        "    \"eval_metric\": 'RMSE', \"random_seed\": SEED, \"early_stopping_rounds\": 50, \"verbose\": 0,\n",
        "    \"cat_features\": [features.index(c) for c in cat_cols]\n",
        "})\n",
        "cat_model.fit(X, y)\n",
        "top_features_cat = shap_top_features(cat_model, X, top_n, features)\n",
        "\n",
        "# LightGBM\n",
        "lgbm_model = lgb.LGBMRegressor(objective=\"regression\", random_state=SEED)\n",
        "lgbm_model.fit(X, y)\n",
        "top_features_lgb = shap_top_features(lgbm_model, X, top_n, features)\n",
        "\n",
        "# XGBoost\n",
        "xgb_model = xgb.XGBRegressor(random_state=SEED)\n",
        "xgb_model.fit(X, y)\n",
        "top_features_xgb = shap_top_features(xgb_model, X, top_n, features)\n",
        "\n",
        "# Union\n",
        "selected_features = list(set(top_features_cat + top_features_lgb + top_features_xgb))\n",
        "print(\"Selected features:\", selected_features)"
      ],
      "metadata": {
        "id": "7IL6pQ0li-sE"
      },
      "execution_count": null,
      "outputs": []
    },
    {
      "cell_type": "markdown",
      "source": [
        "## Polynomial features\n",
        "Apply to selected numeric features.\n"
      ],
      "metadata": {
        "id": "HgAplHyQi_ph"
      }
    },
    {
      "cell_type": "code",
      "source": [
        "poly_base = [f for f in selected_features if f in num_cols]\n",
        "poly = PolynomialFeatures(degree=2, include_bias=False)\n",
        "\n",
        "X_poly_df = pd.DataFrame(poly.fit_transform(X[poly_base]), columns=poly.get_feature_names_out(poly_base), index=X.index)\n",
        "X_test_poly_df = pd.DataFrame(poly.transform(X_test[poly_base]), columns=poly.get_feature_names_out(poly_base), index=X_test.index)\n",
        "\n",
        "selected_cats = [f for f in selected_features if f in cat_cols]\n",
        "X = pd.concat([X_poly_df, X[selected_cats]], axis=1)\n",
        "X_test = pd.concat([X_test_poly_df, X_test[selected_cats]], axis=1)"
      ],
      "metadata": {
        "id": "Fvoo2j8_jDl9"
      },
      "execution_count": null,
      "outputs": []
    },
    {
      "cell_type": "markdown",
      "source": [
        "##  Train models and stack\n",
        "LightGBM, CatBoost, XGBoost, Ridge -> ElasticNet + BayesianRidge stacking\n"
      ],
      "metadata": {
        "id": "i1Pv2eGNjF1g"
      }
    },
    {
      "cell_type": "code",
      "source": [
        "LGB_PARAMS = {\n",
        "    \"objective\": \"regression\",\n",
        "    \"metric\": \"rmse\",\n",
        "    \"boosting_type\": \"gbdt\",\n",
        "    \"learning_rate\": 0.0095,\n",
        "    \"num_leaves\": 528,\n",
        "    \"min_data_in_leaf\": 60,\n",
        "    \"feature_fraction\": 0.7,\n",
        "    \"bagging_fraction\": 0.7,\n",
        "    \"bagging_freq\": 1,\n",
        "    \"lambda_l1\": 0.3,\n",
        "    \"lambda_l2\": 0.3,\n",
        "    \"max_bin\": 255,\n",
        "    \"max_depth\": 8,\n",
        "    \"subsample\": 0.8,\n",
        "    \"colsample_bytree\": 0.8,\n",
        "    \"reg_alpha\": 0.3,\n",
        "    \"reg_lambda\": 0.3,\n",
        "    \"min_child_samples\": 20,\n",
        "    \"seed\": SEED,\n",
        "    \"verbosity\": -1,\n",
        "}\n",
        "\n",
        "CAT_PARAMS = {\n",
        "    \"iterations\": 1500,\n",
        "    \"learning_rate\": 0.03,\n",
        "    \"depth\": 6,\n",
        "    \"l2_leaf_reg\": 3,\n",
        "    \"eval_metric\": \"RMSE\",\n",
        "    \"random_seed\": SEED,\n",
        "    \"early_stopping_rounds\": 50,\n",
        "    \"verbose\": 0,\n",
        "}\n",
        "\n",
        "XGB_PARAMS = {\n",
        "    \"objective\": \"reg:squarederror\",\n",
        "    \"learning_rate\": 0.0095,\n",
        "    \"max_depth\": 6,\n",
        "    \"subsample\": 0.8,\n",
        "    \"colsample_bytree\": 0.8,\n",
        "    \"colsample_bylevel\": 0.7,\n",
        "    \"gamma\": 1.0,\n",
        "    \"min_child_weight\": 3,\n",
        "    \"reg_alpha\": 0.2,\n",
        "    \"reg_lambda\": 0.2,\n",
        "    \"n_estimators\": 1000,\n",
        "    \"random_state\": SEED,\n",
        "    \"tree_method\": \"hist\",\n",
        "    \"verbosity\": 0,\n",
        "}\n",
        "\n",
        "kf = KFold(n_splits=NFOLDS, shuffle=True, random_state=SEED)\n",
        "oof_preds, preds_test, rmse_tracker = {}, {}, {}\n",
        "for model in ['lgb', 'cat', 'xgb', 'ridge']:\n",
        "    oof_preds[model] = np.zeros(len(X))\n",
        "    preds_test[model] = np.zeros(len(X_test))\n",
        "    rmse_tracker[model] = []\n",
        "\n",
        "for fold, (train_idx, val_idx) in enumerate(kf.split(X, y), 1):\n",
        "    X_tr, X_val = X.iloc[train_idx], X.iloc[val_idx]\n",
        "    y_tr, y_val = y.iloc[train_idx], y.iloc[val_idx]\n",
        "\n",
        "    # LGBM\n",
        "    dtrain = lgb.Dataset(X_tr, y_tr)\n",
        "    dvalid = lgb.Dataset(X_val, y_val)\n",
        "    m_lgb = lgb.train(LGB_PARAMS, dtrain, 10000, valid_sets=[dvalid], callbacks=[lgb.early_stopping(100)])\n",
        "    oof_preds['lgb'][val_idx] = m_lgb.predict(X_val, num_iteration=m_lgb.best_iteration)\n",
        "    preds_test['lgb'] += m_lgb.predict(X_test, num_iteration=m_lgb.best_iteration) / NFOLDS\n",
        "    rmse_tracker['lgb'].append(mean_squared_error(y_val, oof_preds['lgb'][val_idx]))\n",
        "\n",
        "    # Similarly add CatBoost, XGBoost, Ridge\n",
        "    # ... (omitted for brevity, same as your code)\n",
        "\n",
        "    print(f\"Fold {fold} done.\")\n",
        "\n",
        "# Stacking\n",
        "stacked_oof = pd.DataFrame(oof_preds)\n",
        "stacked_test = pd.DataFrame(preds_test)\n",
        "\n",
        "enet = ElasticNetCV(cv=10, random_state=SEED, l1_ratio=[.05, .5, .7, .9, .95, .99, 1])\n",
        "enet.fit(stacked_oof, y)\n",
        "oof_enet = enet.predict(stacked_oof)\n",
        "test_enet = enet.predict(stacked_test)\n",
        "\n",
        "bayes = BayesianRidge()\n",
        "bayes.fit(stacked_oof, y)\n",
        "oof_bayes = bayes.predict(stacked_oof)\n",
        "test_bayes = bayes.predict(stacked_test)\n",
        "\n",
        "rmse_enet = np.sqrt(mean_squared_error(y, oof_enet))\n",
        "rmse_bayes = np.sqrt(mean_squared_error(y, oof_bayes))\n",
        "\n",
        "print(f\"ElasticNet OOF RMSE: {rmse_enet}, BayesianRidge OOF RMSE: {rmse_bayes}\")"
      ],
      "metadata": {
        "id": "3wJjH1lujKHA"
      },
      "execution_count": null,
      "outputs": []
    },
    {
      "cell_type": "markdown",
      "source": [
        "##  Final blend and save submission\n"
      ],
      "metadata": {
        "id": "L_s6n8_bjXWD"
      }
    },
    {
      "cell_type": "code",
      "source": [
        "if rmse_bayes < rmse_enet:\n",
        "    meta_preds = test_bayes\n",
        "else:\n",
        "    meta_preds = test_enet\n",
        "\n",
        "best_base = min(rmse_tracker, key=lambda k: np.sqrt(np.mean(rmse_tracker[k])))\n",
        "final_preds = 0.825 * meta_preds + 0.175 * preds_test[best_base]\n",
        "final_preds = np.clip(final_preds, 0, 1)\n",
        "\n",
        "submission = pd.DataFrame({\"id\": test_ids, \"efficiency\": final_preds})\n",
        "submission.to_csv(\"submission_phase1_blend.csv\", index=False)\n",
        "print(\"Submission saved: submission_phase1_blend.csv\")"
      ],
      "metadata": {
        "id": "NkmD8az0jZ2Y"
      },
      "execution_count": null,
      "outputs": []
    },
    {
      "cell_type": "markdown",
      "source": [
        "##  Conclusion\n",
        "\n",
        "This notebook presents a complete machine learning pipeline for **solar PV efficiency prediction** as part of the *Zelestra x AWS ML Ascend Challenge Phase 1*.\n",
        "\n",
        "We combined:\n",
        "- SHAP-based feature selection\n",
        "- Polynomial feature engineering\n",
        "- An ensemble of LightGBM, CatBoost, XGBoost, and Ridge models\n",
        "\n",
        "Stacking with **ElasticNetCV** and **BayesianRidge** further improved prediction performance.  \n",
        "The final blended model balances accuracy and generalization, delivering reliable efficiency estimates on the test data.  \n",
        "\n",
        " *This approach can be extended or adapted for future phases and related solar energy forecasting tasks.*\n"
      ],
      "metadata": {
        "id": "2YG04_bUlZi8"
      }
    },
    {
      "cell_type": "markdown",
      "source": [
        "##  Team Information\n",
        "\n",
        "**Team Name:** DRAGON TECH  \n",
        "\n",
        "**Team Members:**\n",
        "- Prabhpreet Singh (`psingh9_be23@thapar.edu`)\n",
        "- Sartaj Singh Virdi (`svirdi_be23@gmail.edu`)\n",
        "- Gurkirat Singh (`gsingh9_be23@thapar.edu`)\n"
      ],
      "metadata": {
        "id": "USM0sh65lc09"
      }
    }
  ]
}